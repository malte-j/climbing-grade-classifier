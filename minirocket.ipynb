{
 "cells": [
  {
   "cell_type": "code",
   "execution_count": null,
   "metadata": {},
   "outputs": [],
   "source": [
    "from tsai.basics import *\n",
    "import sktime\n",
    "import sklearn\n",
    "import get_processed_data as gpd\n",
    "from tsai.models.MINIROCKET_Pytorch import *\n",
    "from tsai.models.utils import *"
   ]
  },
  {
   "cell_type": "code",
   "execution_count": null,
   "metadata": {},
   "outputs": [],
   "source": [
    "train, test = gpd.get_train_test_split(\"malte\", 10*60, 5*60)\n",
    "\n",
    "train_easy = train[\"easy\"]\n",
    "train_hard = train[\"hard\"]\n",
    "\n",
    "test_easy = test[\"easy\"]\n",
    "test_hard = test[\"hard\"]\n",
    "\n",
    "y_train_easy = np.full(len(train_easy), 'easy', dtype=object)\n",
    "y_train_hard = np.full(len(train_hard), 'hard', dtype=object)\n",
    "y_test_easy = np.full(len(test_easy), 'easy', dtype=object)\n",
    "y_test_hard = np.full(len(test_hard), 'hard', dtype=object)\n",
    "\n",
    "X = np.concatenate([train_easy, train_hard])\n",
    "y = np.concatenate([y_train_easy, y_train_hard])\n",
    "\n",
    "X = np.stack([np.transpose(np.array(x[['Quat_W', 'Quat_X', 'Quat_Y', 'Quat_Z', 'FreeAcc_X', 'FreeAcc_Y', 'FreeAcc_Z']].tolist()), (1, 0)) for x in X])\n",
    "\n",
    "# create an array with two arrays inside for train and test. the train array contains the indices of the train samples and the test array the indices of the test samples\n",
    "splits = get_splits(range(len(train_easy) + len(train_hard)), 1, 0.1, random_state=42)\n",
    "\n",
    "X_test = np.concatenate([test_easy, test_hard])\n",
    "y_test = np.concatenate([y_test_easy, y_test_hard])\n",
    "X_test = np.stack([np.transpose(np.array(x[['Quat_W', 'Quat_X', 'Quat_Y', 'Quat_Z', 'FreeAcc_X', 'FreeAcc_Y', 'FreeAcc_Z']].tolist()), (1, 0)) for x in X_test])\n"
   ]
  },
  {
   "cell_type": "code",
   "execution_count": null,
   "metadata": {},
   "outputs": [],
   "source": [
    "tfms = [None, TSClassification()]\n",
    "batch_tfms = TSStandardize(by_sample=True)\n",
    "dls = get_ts_dls(X, y, splits=splits, tfms=tfms, batch_tfms=batch_tfms)\n",
    "model = build_ts_model(MiniRocket, dls=dls)\n",
    "learn = Learner(dls, model, metrics=accuracy, cbs=ShowGraph())"
   ]
  },
  {
   "cell_type": "code",
   "execution_count": null,
   "metadata": {},
   "outputs": [],
   "source": [
    "learn.lr_find()"
   ]
  },
  {
   "cell_type": "code",
   "execution_count": null,
   "metadata": {},
   "outputs": [],
   "source": [
    "timer.start()\n",
    "learn.fit_one_cycle(35, 2e-4)\n",
    "timer.stop()"
   ]
  },
  {
   "cell_type": "code",
   "execution_count": null,
   "metadata": {},
   "outputs": [],
   "source": [
    "PATH = Path('./models/MiniRocket_10_8.pkl')\n",
    "PATH.parent.mkdir(parents=True, exist_ok=True)\n",
    "learn.export(PATH)"
   ]
  },
  {
   "cell_type": "code",
   "execution_count": null,
   "metadata": {},
   "outputs": [],
   "source": [
    "del learn"
   ]
  },
  {
   "cell_type": "code",
   "execution_count": null,
   "metadata": {},
   "outputs": [],
   "source": [
    "PATH = Path('./models/MiniRocket.pkl')\n",
    "learn = load_learner(PATH, cpu=False)"
   ]
  },
  {
   "cell_type": "code",
   "execution_count": null,
   "metadata": {},
   "outputs": [],
   "source": [
    "probas, _, preds = learn.get_X_preds(X_test)\n",
    "sklearn.metrics.accuracy_score(y_test, preds)"
   ]
  }
 ],
 "metadata": {
  "kernelspec": {
   "display_name": ".venv",
   "language": "python",
   "name": "python3"
  },
  "language_info": {
   "codemirror_mode": {
    "name": "ipython",
    "version": 3
   },
   "file_extension": ".py",
   "mimetype": "text/x-python",
   "name": "python",
   "nbconvert_exporter": "python",
   "pygments_lexer": "ipython3",
   "version": "3.12.3"
  }
 },
 "nbformat": 4,
 "nbformat_minor": 2
}
