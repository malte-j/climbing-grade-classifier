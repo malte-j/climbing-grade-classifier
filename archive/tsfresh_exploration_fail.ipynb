{
 "cells": [
  {
   "cell_type": "markdown",
   "metadata": {},
   "source": [
    "# TSFresh exploration"
   ]
  },
  {
   "cell_type": "code",
   "execution_count": 19,
   "metadata": {},
   "outputs": [],
   "source": [
    "from tsfresh import select_features, extract_relevant_features, extract_features\n",
    "from tsfresh.utilities.dataframe_functions import impute\n",
    "from get_processed_data import processed_data_malte\n",
    "import pandas as pd"
   ]
  },
  {
   "cell_type": "code",
   "execution_count": null,
   "metadata": {},
   "outputs": [],
   "source": [
    "# to use our data in tsfresh, we need to convert it to their format\n",
    "# lets try with one data point first\n",
    "# we need the following format : id, time, [...sensor values]\n",
    "\n",
    "\n",
    "data = processed_data_malte[\"3\"][0]\n",
    "# convert to pandas dataframe\n",
    "\n",
    "data = pd.DataFrame(data)\n",
    "\n",
    "#add id column and set to 1\n",
    "data[\"id\"] = 1\n",
    "\n",
    "data.head()\n",
    "\n",
    "extracted_features = extract_features(data, column_id=\"id\", column_sort=\"SampleTimeFine\", column_kind=None, column_value=None)\n",
    "\n"
   ]
  },
  {
   "cell_type": "markdown",
   "metadata": {},
   "source": [
    "## Prepare data for TSFresh\n",
    "Convert data to a single pandas dataframe and generate a unique id for each climb.\n",
    "\n",
    "Also, generate a labels array, that indicates 0 for an easy route and 1 for a hard route for each climb."
   ]
  },
  {
   "cell_type": "code",
   "execution_count": 59,
   "metadata": {},
   "outputs": [
    {
     "name": "stdout",
     "output_type": "stream",
     "text": [
      "0     0\n",
      "1     0\n",
      "2     0\n",
      "3     0\n",
      "4     0\n",
      "5     0\n",
      "6     0\n",
      "7     0\n",
      "8     1\n",
      "9     1\n",
      "10    1\n",
      "11    1\n",
      "12    1\n",
      "dtype: int64\n",
      "   SampleTimeFine    Quat_W    Quat_X    Quat_Y    Quat_Z  FreeAcc_X  \\\n",
      "0               0 -0.634064 -0.305900  0.667268 -0.243187   0.897042   \n",
      "1           16667 -0.634288 -0.308343  0.665901 -0.243266   1.185700   \n",
      "2           33334 -0.634115 -0.311293  0.664682 -0.243294   1.388625   \n",
      "3           50001 -0.634039 -0.314479  0.663143 -0.243595   1.238289   \n",
      "4           66668 -0.633950 -0.317556  0.661447 -0.244443   1.082093   \n",
      "\n",
      "   FreeAcc_Y  FreeAcc_Z  id  \n",
      "0   0.352503  -1.251197   0  \n",
      "1  -0.084639  -0.808746   0  \n",
      "2  -0.452435  -0.391868   0  \n",
      "3  -0.543406   0.012652   0  \n",
      "4  -0.170053   0.300346   0  \n"
     ]
    }
   ],
   "source": [
    "# now try loading all data points for processed_data_malte\n",
    "all_climbs = []\n",
    "labels = pd.Series() # 0 = not hard, 1 = hard\n",
    "i = 0\n",
    "\n",
    "\n",
    "# iterate through dict and get values and keys\n",
    "\n",
    "for key, climbs in processed_data_malte.items():\n",
    "  if key == \"5-\":\n",
    "    continue\n",
    "\n",
    "  for climb in climbs:\n",
    "    data = pd.DataFrame(climb)\n",
    "    data = data.drop(\"PacketCounter\", axis=1)\n",
    "    labels[i] = 0 if key == \"3\" or key == \"4\" else 1\n",
    "    data[\"id\"] = i\n",
    "    i += 1\n",
    "    all_climbs.append(data)\n",
    "    # labels.append(0 if key == \"3\" or key == \"4\" else 1)\n",
    "\n",
    "\n",
    "print(labels)\n",
    "print(pd.concat(all_climbs).head())\n",
    "\n",
    "all_climbs_df = pd.concat(all_climbs)"
   ]
  },
  {
   "cell_type": "code",
   "execution_count": null,
   "metadata": {},
   "outputs": [],
   "source": [
    "# now we can extract features from all_climbs\n",
    "extracted_features = extract_features(all_climbs_df, column_id=\"id\", column_sort=\"SampleTimeFine\", column_kind=None, column_value=None)\n",
    "# save to disk\n",
    "extracted_features.to_csv(\"extracted_features.csv\")\n",
    "extracted_features.head()"
   ]
  },
  {
   "cell_type": "code",
   "execution_count": 62,
   "metadata": {},
   "outputs": [
    {
     "data": {
      "text/html": [
       "<div>\n",
       "<style scoped>\n",
       "    .dataframe tbody tr th:only-of-type {\n",
       "        vertical-align: middle;\n",
       "    }\n",
       "\n",
       "    .dataframe tbody tr th {\n",
       "        vertical-align: top;\n",
       "    }\n",
       "\n",
       "    .dataframe thead th {\n",
       "        text-align: right;\n",
       "    }\n",
       "</style>\n",
       "<table border=\"1\" class=\"dataframe\">\n",
       "  <thead>\n",
       "    <tr style=\"text-align: right;\">\n",
       "      <th></th>\n",
       "    </tr>\n",
       "  </thead>\n",
       "  <tbody>\n",
       "    <tr>\n",
       "      <th>0</th>\n",
       "    </tr>\n",
       "    <tr>\n",
       "      <th>1</th>\n",
       "    </tr>\n",
       "    <tr>\n",
       "      <th>2</th>\n",
       "    </tr>\n",
       "    <tr>\n",
       "      <th>3</th>\n",
       "    </tr>\n",
       "    <tr>\n",
       "      <th>4</th>\n",
       "    </tr>\n",
       "    <tr>\n",
       "      <th>5</th>\n",
       "    </tr>\n",
       "    <tr>\n",
       "      <th>6</th>\n",
       "    </tr>\n",
       "    <tr>\n",
       "      <th>7</th>\n",
       "    </tr>\n",
       "    <tr>\n",
       "      <th>8</th>\n",
       "    </tr>\n",
       "    <tr>\n",
       "      <th>9</th>\n",
       "    </tr>\n",
       "    <tr>\n",
       "      <th>10</th>\n",
       "    </tr>\n",
       "    <tr>\n",
       "      <th>11</th>\n",
       "    </tr>\n",
       "    <tr>\n",
       "      <th>12</th>\n",
       "    </tr>\n",
       "  </tbody>\n",
       "</table>\n",
       "</div>"
      ],
      "text/plain": [
       "Empty DataFrame\n",
       "Columns: []\n",
       "Index: [0, 1, 2, 3, 4, 5, 6, 7, 8, 9, 10, 11, 12]"
      ]
     },
     "execution_count": 62,
     "metadata": {},
     "output_type": "execute_result"
    }
   ],
   "source": [
    "# drop columns with NaN values\n",
    "extracted_features_without_nan = impute(extracted_features)\n",
    "\n",
    "# # now we can filter out the relevant features\n",
    "filtered_features = select_features(extracted_features_without_nan, labels)\n",
    "filtered_features"
   ]
  },
  {
   "cell_type": "markdown",
   "metadata": {},
   "source": [
    "# Conclusion\n",
    "\n",
    "Using the samples directly results in an empty feature array. This is likely because we have too little samples to calculate a relevancy of the features. We need to generate more samples, e.g. using windowing."
   ]
  }
 ],
 "metadata": {
  "kernelspec": {
   "display_name": ".venv",
   "language": "python",
   "name": "python3"
  },
  "language_info": {
   "codemirror_mode": {
    "name": "ipython",
    "version": 3
   },
   "file_extension": ".py",
   "mimetype": "text/x-python",
   "name": "python",
   "nbconvert_exporter": "python",
   "pygments_lexer": "ipython3",
   "version": "3.12.2"
  }
 },
 "nbformat": 4,
 "nbformat_minor": 2
}
