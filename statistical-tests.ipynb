{
 "cells": [
  {
   "cell_type": "code",
   "execution_count": 1,
   "metadata": {},
   "outputs": [],
   "source": [
    "import get_processed_data as gpd\n",
    "import scipy.stats as stats\n"
   ]
  },
  {
   "cell_type": "markdown",
   "metadata": {},
   "source": [
    "# Malte"
   ]
  },
  {
   "cell_type": "code",
   "execution_count": 2,
   "metadata": {},
   "outputs": [
    {
     "name": "stdout",
     "output_type": "stream",
     "text": [
      "malte_3_mag_mean:  [2.330872361443052, 2.248734069558666]\n",
      "malte_6_mag_mean:  [1.8393688503780352, 7.270028829274144]\n"
     ]
    }
   ],
   "source": [
    "# get data from malte\n",
    "malte_3_1 = gpd.processed_data_malte[\"3\"][0]\n",
    "malte_3_2 = gpd.processed_data_malte[\"3\"][1]\n",
    "malte_6_1 = gpd.processed_data_malte[\"6\"][0]\n",
    "malte_6_2 = gpd.processed_data_malte[\"6\"][1]\n",
    "\n",
    "# calculate magnitude from \"FreeAcc_X\", \"FreeAcc_Y\", \"FreeAcc_Z\"\n",
    "malte_3_1_mag = (malte_3_1[\"FreeAcc_X\"]**2 + malte_3_1[\"FreeAcc_Y\"]**2 + malte_3_1[\"FreeAcc_Z\"]**2)**0.5\n",
    "malte_3_2_mag = (malte_3_2[\"FreeAcc_X\"]**2 + malte_3_2[\"FreeAcc_Y\"]**2 + malte_3_2[\"FreeAcc_Z\"]**2)**0.5\n",
    "malte_6_1_mag  = (malte_6_1[\"FreeAcc_X\"]**2 + malte_6_1[\"FreeAcc_Y\"]**2 + malte_6_1[\"FreeAcc_Z\"]**2)**0.5\n",
    "malte_6_2_mag  = (malte_6_2[\"FreeAcc_X\"]**2 + malte_6_2[\"FreeAcc_Y\"]**2 + malte_6_2[\"FreeAcc_Z\"]**2)**0.5\n",
    "\n",
    "# calculate means\n",
    "malte_3_mag_mean = [malte_3_1_mag.mean(), malte_3_2_mag.mean()]\n",
    "malte_6_mag_mean = [malte_6_1_mag.mean(), malte_6_2_mag.mean()]\n",
    "\n",
    "print(\"malte_3_mag_mean: \", malte_3_mag_mean)\n",
    "print(\"malte_6_mag_mean: \", malte_6_mag_mean)"
   ]
  },
  {
   "cell_type": "code",
   "execution_count": 3,
   "metadata": {},
   "outputs": [
    {
     "name": "stdout",
     "output_type": "stream",
     "text": [
      "t-statistic:  -0.834018927795544\n",
      "p-value  0.4920169933651143\n"
     ]
    }
   ],
   "source": [
    "# calculate t-test\n",
    "t_stat, p_val = stats.ttest_ind(malte_3_mag_mean, malte_6_mag_mean)\n",
    "print(\"t-statistic: \", t_stat)\n",
    "print(\"p-value \", p_val)"
   ]
  },
  {
   "cell_type": "code",
   "execution_count": 4,
   "metadata": {},
   "outputs": [
    {
     "name": "stdout",
     "output_type": "stream",
     "text": [
      "w-statistic:  1.0\n",
      "p-value  1.0\n"
     ]
    }
   ],
   "source": [
    "# do Wilcoxon test\n",
    "w_stat, p_val = stats.wilcoxon(malte_3_mag_mean, malte_6_mag_mean)\n",
    "print(\"w-statistic: \", w_stat)\n",
    "print(\"p-value \", p_val)\n"
   ]
  },
  {
   "cell_type": "markdown",
   "metadata": {},
   "source": [
    "# Luis"
   ]
  },
  {
   "cell_type": "code",
   "execution_count": 5,
   "metadata": {},
   "outputs": [
    {
     "name": "stdout",
     "output_type": "stream",
     "text": [
      "luis_3_mag_mean:  [2.5042392966078735, 3.3264499197565187]\n",
      "luis_5_mag_mean:  [1.7067827262625401, 2.4449636967854067]\n"
     ]
    }
   ],
   "source": [
    "# get data from luis\n",
    "luis_3_1 = gpd.processed_data_luis[\"3\"][0]\n",
    "luis_3_2 = gpd.processed_data_luis[\"3\"][1]\n",
    "luis_5_1 = gpd.processed_data_luis[\"5\"][0]\n",
    "luis_5_2 = gpd.processed_data_luis[\"5-\"][0]\n",
    "\n",
    "# calculate magnitude from \"FreeAcc_X\", \"FreeAcc_Y\", \"FreeAcc_Z\"\n",
    "luis_3_1_mag = (luis_3_1[\"FreeAcc_X\"]**2 + luis_3_1[\"FreeAcc_Y\"]**2 + luis_3_1[\"FreeAcc_Z\"]**2)**0.5\n",
    "luis_3_2_mag = (luis_3_2[\"FreeAcc_X\"]**2 + luis_3_2[\"FreeAcc_Y\"]**2 + luis_3_2[\"FreeAcc_Z\"]**2)**0.5\n",
    "luis_5_1_mag  = (luis_5_1[\"FreeAcc_X\"]**2 + luis_5_1[\"FreeAcc_Y\"]**2 + luis_5_1[\"FreeAcc_Z\"]**2)**0.5\n",
    "luis_5_2_mag  = (luis_5_2[\"FreeAcc_X\"]**2 + luis_5_2[\"FreeAcc_Y\"]**2 + luis_5_2[\"FreeAcc_Z\"]**2)**0.5\n",
    "\n",
    "# calculate means\n",
    "luis_3_mag_mean = [luis_3_1_mag.mean(), luis_3_2_mag.mean()]\n",
    "luis_5_mag_mean = [luis_5_1_mag.mean(), luis_5_2_mag.mean()]\n",
    "\n",
    "print(\"luis_3_mag_mean: \", luis_3_mag_mean)\n",
    "print(\"luis_5_mag_mean: \", luis_5_mag_mean)"
   ]
  },
  {
   "cell_type": "code",
   "execution_count": 6,
   "metadata": {},
   "outputs": [
    {
     "name": "stdout",
     "output_type": "stream",
     "text": [
      "t-statistic:  1.5194572264623203\n",
      "p-value  0.2679970732350144\n"
     ]
    }
   ],
   "source": [
    "# calculate t-test\n",
    "t_stat, p_val = stats.ttest_ind(luis_3_mag_mean, luis_5_mag_mean)\n",
    "print(\"t-statistic: \", t_stat)\n",
    "print(\"p-value \", p_val)"
   ]
  },
  {
   "cell_type": "code",
   "execution_count": 7,
   "metadata": {},
   "outputs": [
    {
     "name": "stdout",
     "output_type": "stream",
     "text": [
      "w-statistic:  0.0\n",
      "p-value  0.5\n"
     ]
    }
   ],
   "source": [
    "# calculate Wilcoxon test\n",
    "w_stat, p_val = stats.wilcoxon(luis_3_mag_mean, luis_5_mag_mean)\n",
    "print(\"w-statistic: \", w_stat)\n",
    "print(\"p-value \", p_val)"
   ]
  }
 ],
 "metadata": {
  "kernelspec": {
   "display_name": ".venv",
   "language": "python",
   "name": "python3"
  },
  "language_info": {
   "codemirror_mode": {
    "name": "ipython",
    "version": 3
   },
   "file_extension": ".py",
   "mimetype": "text/x-python",
   "name": "python",
   "nbconvert_exporter": "python",
   "pygments_lexer": "ipython3",
   "version": "3.12.3"
  }
 },
 "nbformat": 4,
 "nbformat_minor": 2
}
